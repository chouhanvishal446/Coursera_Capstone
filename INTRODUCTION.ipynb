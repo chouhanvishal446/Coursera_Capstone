{
    "nbformat_minor": 2, 
    "cells": [
        {
            "source": "<h1 align=center><font color=red>Battle of Neighborhoods </font><h1>", 
            "cell_type": "markdown", 
            "metadata": {}
        }, 
        {
            "source": "<h1> <font color=blue>1. Description of the Problem and Discussion of the Background <h1>", 
            "cell_type": "markdown", 
            "metadata": {}
        }, 
        {
            "source": "New York City is the largest city in the United States with long history of international immigration. They came from many parts of the world. According to 2007 American Community Survey estimates, New York City is home to approximately 315,000 people from the Indian subcontinent, which includes the countries of India (236,117), Pakistan (39,002), Bangladesh (34,332), and Sri Lanka (5,010). South Asians constitute 3.8% of New York City's population.The New York City Metropolitan Area is home to approximately 600,000 Indian Americans, representing the largest Asian Indian population in the Western Hemisphere.   \nWith it's diverse culture , comes diverse food items. There are many resturants in New york City, each beloning to different categories like Chinese , Indian , French etc.", 
            "cell_type": "markdown", 
            "metadata": {}
        }, 
        {
            "source": "So, as a part of this project we will find the best place for open a new Indian Restaurant in Queens of New York City.", 
            "cell_type": "markdown", 
            "metadata": {}
        }
    ], 
    "nbformat": 4, 
    "metadata": {
        "kernelspec": {
            "display_name": "Python 3.6", 
            "name": "python3", 
            "language": "python"
        }, 
        "language_info": {
            "mimetype": "text/x-python", 
            "nbconvert_exporter": "python", 
            "version": "3.6.8", 
            "name": "python", 
            "pygments_lexer": "ipython3", 
            "file_extension": ".py", 
            "codemirror_mode": {
                "version": 3, 
                "name": "ipython"
            }
        }
    }
}