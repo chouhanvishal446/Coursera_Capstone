{
    "nbformat_minor": 2, 
    "cells": [
        {
            "source": "<h1 align=center><font color=red>Battle of Neighborhoods </font><h1>", 
            "cell_type": "markdown", 
            "metadata": {}
        }, 
        {
            "source": "<h1> <font color=blue>1. Description of the Problem and Discussion of the Background <h1>", 
            "cell_type": "markdown", 
            "metadata": {}
        }, 
        {
            "source": "New York City is the largest city in the United States with long history of international immigration. They came from many parts of the world. According to 2007 American Community Survey estimates, New York City is home to approximately 315,000 people from the Indian subcontinent, which includes the countries of India (236,117), Pakistan (39,002), Bangladesh (34,332), and Sri Lanka (5,010). South Asians constitute 3.8% of New York City's population.The New York City Metropolitan Area is home to approximately 600,000 Indian Americans, representing the largest Asian Indian population in the Western Hemisphere.   \nWith it's diverse culture , comes diverse food items. There are many resturants in New york City, each beloning to different categories like Chinese , Indian , French etc.", 
            "cell_type": "markdown", 
            "metadata": {}
        }, 
        {
            "source": "So, as a part of this project we will find the best place for open a new Indian Restaurant in Queens of New York City.", 
            "cell_type": "markdown", 
            "metadata": {}
        }, 
        {
            "source": "<h1> <font color=blue> 2. Data Section <h1>", 
            "cell_type": "markdown", 
            "metadata": {}
        }, 
        {
            "source": "For this project we need the following data:\n1. New York City data that contains Borough, Neighborhoods along with there latitudes and longitudes\n    * Data Source: https://cocl.us/new_york_dataset\n    * Description : This data set contains the required information. And we will use this data set to explore        various neighborhoods of new york city. \n \n2. Indian resturants in Queens neighborhood of new york city.\n    * Data Source: Foursquare API\n    * Description : By using this API we will get all the venues in Queens neighborhood. We can filter these venues to get only indian resturants. ", 
            "cell_type": "markdown", 
            "metadata": {}
        }, 
        {
            "source": "## Approach", 
            "cell_type": "markdown", 
            "metadata": {}
        }, 
        {
            "source": "* Collect the new york city data from https://cocl.us/new_york_dataset\n* Using Foursquare API we will get all venues for each neighborhood.\n* Filter out all venues which are Indian Restaurants.\n* Data Visualization and some statistical analysis.\n* Analysing using Clustering (Specially K-Means):\n    1. Find the best value of K \n    2. Visualize the neighborhood with number of Indian Restaurants.\n* Compare the Neighborhoods to Find the Best Place for Starting up a Restaurant\n* Inference From these Results and related Conclusions", 
            "cell_type": "markdown", 
            "metadata": {}
        }, 
        {
            "source": "## Target Audience", 
            "cell_type": "markdown", 
            "metadata": {}
        }, 
        {
            "source": "* Business personnel who wants to invest or open a restaurant.\n* Freelancer who loves to have their own restaurant as a side business.\n* Finding the best location for opening a restaurant.\n* Budding Data Scientists, who wants to implement some of the most used Exploratory Data Analysis techniques to\nobtain necessary data, analyze it and, finally be able to tell a story out of it. ", 
            "cell_type": "markdown", 
            "metadata": {}
        }, 
        {
            "source": "## Import all required libraries.", 
            "cell_type": "markdown", 
            "metadata": {}
        }, 
        {
            "source": "import numpy as np # library to handle data in a vectorized manner\n\nimport pandas as pd # library for data analysis\npd.set_option('display.max_columns', None)\npd.set_option('display.max_rows', None)\n\nimport json # library to handle JSON files\n\n#!conda install -c conda-forge geopy --yes # uncomment this line if this library is not installed.\nfrom geopy.geocoders import Nominatim # convert an address into latitude and longitude values\n\nimport requests # library to handle requests\nfrom pandas.io.json import json_normalize # tranform JSON file into a pandas dataframe\n\n# Matplotlib and associated plotting modules\nimport matplotlib.pyplot as plt\nimport matplotlib.cm as cm\nimport matplotlib.colors as colors\n\n# import k-means from clustering stage\nfrom sklearn.cluster import KMeans\n\n!conda install -c conda-forge folium=0.5.0 --yes # uncomment this line if folium is not installed\nimport folium # map rendering library\n\nprint('Libraries imported.')", 
            "cell_type": "code", 
            "execution_count": null, 
            "outputs": [
                {
                    "output_type": "stream", 
                    "name": "stdout", 
                    "text": "Solving environment: \\ "
                }
            ], 
            "metadata": {}
        }, 
        {
            "source": "### We will get Newyork data such as Borough, Neighorhood along with latitude and longitude.", 
            "cell_type": "markdown", 
            "metadata": {}
        }, 
        {
            "source": "!wget -q -O 'newyork_data.json' https://cocl.us/new_york_dataset\n    \nwith open('newyork_data.json') as json_data:\n    newyork_data = json.load(json_data)\nny_data = newyork_data['features']\n\n# define the dataframe columns\ncolumn_names = ['Borough', 'Neighborhood', 'Latitude', 'Longitude'] \n\n# instantiate the dataframe\nnewyork = pd.DataFrame(columns=column_names)", 
            "cell_type": "code", 
            "execution_count": null, 
            "outputs": [], 
            "metadata": {}
        }, 
        {
            "source": "### let's loop through the data and fill the dataframe one row at a time.", 
            "cell_type": "markdown", 
            "metadata": {}
        }, 
        {
            "source": "# Get the Newyork data\nfor data in ny_data:\n    borough = data['properties']['borough'] \n    neighborhood_name = data['properties']['name']\n        \n    neighborhood_latlon = data['geometry']['coordinates']\n    neighborhood_lat = neighborhood_latlon[1]\n    neighborhood_lon = neighborhood_latlon[0]\n    \n    newyork = newyork.append({'Borough': borough,\n                                'Neighborhood': neighborhood_name,\n                                'Latitude': neighborhood_lat,\n                                'Longitude': neighborhood_lon}, ignore_index=True)", 
            "cell_type": "code", 
            "execution_count": null, 
            "outputs": [], 
            "metadata": {}
        }, 
        {
            "source": "# Print Newyork data\nprint(newyork.shape)\nnewyork.head()", 
            "cell_type": "code", 
            "execution_count": null, 
            "outputs": [], 
            "metadata": {}
        }
    ], 
    "nbformat": 4, 
    "metadata": {
        "kernelspec": {
            "display_name": "Python 3.6", 
            "name": "python3", 
            "language": "python"
        }, 
        "language_info": {
            "mimetype": "text/x-python", 
            "nbconvert_exporter": "python", 
            "version": "3.6.8", 
            "name": "python", 
            "pygments_lexer": "ipython3", 
            "file_extension": ".py", 
            "codemirror_mode": {
                "version": 3, 
                "name": "ipython"
            }
        }
    }
}